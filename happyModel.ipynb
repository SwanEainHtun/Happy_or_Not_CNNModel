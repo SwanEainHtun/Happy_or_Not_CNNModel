{
  "cells": [
    {
      "cell_type": "code",
      "execution_count": 1,
      "metadata": {
        "colab": {
          "base_uri": "https://localhost:8080/"
        },
        "id": "A_OYB393FA2m",
        "outputId": "def2c242-fc97-4359-fd7b-6ed07eed630e"
      },
      "outputs": [
        {
          "output_type": "stream",
          "name": "stdout",
          "text": [
            "Requirement already satisfied: h5py in /usr/local/lib/python3.10/dist-packages (3.9.0)\n",
            "Requirement already satisfied: numpy>=1.17.3 in /usr/local/lib/python3.10/dist-packages (from h5py) (1.25.2)\n"
          ]
        }
      ],
      "source": [
        "pip install h5py\n"
      ]
    },
    {
      "cell_type": "code",
      "execution_count": 2,
      "metadata": {
        "id": "paPyyIQQbDdO"
      },
      "outputs": [],
      "source": [
        "import math\n",
        "import numpy as np\n",
        "import h5py\n",
        "import matplotlib.pyplot as plt\n",
        "from matplotlib.pyplot import imread\n",
        "import scipy\n",
        "from PIL import Image\n",
        "import pandas as pd\n",
        "import tensorflow as tf\n",
        "import tensorflow.keras.layers as tfl\n",
        "from tensorflow.python.framework import ops\n",
        "from cnn_utils import *\n",
        "from test_utils import summary, comparator\n",
        "\n",
        "%matplotlib inline\n",
        "np.random.seed(1)"
      ]
    },
    {
      "cell_type": "code",
      "execution_count": 3,
      "metadata": {
        "colab": {
          "base_uri": "https://localhost:8080/"
        },
        "id": "ieUgcNm2bAfW",
        "outputId": "99405c75-eab8-49d9-d749-35737751b883"
      },
      "outputs": [
        {
          "output_type": "stream",
          "name": "stdout",
          "text": [
            "Requirement already satisfied: tensorflow in /usr/local/lib/python3.10/dist-packages (2.15.0)\n",
            "Requirement already satisfied: absl-py>=1.0.0 in /usr/local/lib/python3.10/dist-packages (from tensorflow) (1.4.0)\n",
            "Requirement already satisfied: astunparse>=1.6.0 in /usr/local/lib/python3.10/dist-packages (from tensorflow) (1.6.3)\n",
            "Requirement already satisfied: flatbuffers>=23.5.26 in /usr/local/lib/python3.10/dist-packages (from tensorflow) (24.3.25)\n",
            "Requirement already satisfied: gast!=0.5.0,!=0.5.1,!=0.5.2,>=0.2.1 in /usr/local/lib/python3.10/dist-packages (from tensorflow) (0.5.4)\n",
            "Requirement already satisfied: google-pasta>=0.1.1 in /usr/local/lib/python3.10/dist-packages (from tensorflow) (0.2.0)\n",
            "Requirement already satisfied: h5py>=2.9.0 in /usr/local/lib/python3.10/dist-packages (from tensorflow) (3.9.0)\n",
            "Requirement already satisfied: libclang>=13.0.0 in /usr/local/lib/python3.10/dist-packages (from tensorflow) (18.1.1)\n",
            "Requirement already satisfied: ml-dtypes~=0.2.0 in /usr/local/lib/python3.10/dist-packages (from tensorflow) (0.2.0)\n",
            "Requirement already satisfied: numpy<2.0.0,>=1.23.5 in /usr/local/lib/python3.10/dist-packages (from tensorflow) (1.25.2)\n",
            "Requirement already satisfied: opt-einsum>=2.3.2 in /usr/local/lib/python3.10/dist-packages (from tensorflow) (3.3.0)\n",
            "Requirement already satisfied: packaging in /usr/local/lib/python3.10/dist-packages (from tensorflow) (24.1)\n",
            "Requirement already satisfied: protobuf!=4.21.0,!=4.21.1,!=4.21.2,!=4.21.3,!=4.21.4,!=4.21.5,<5.0.0dev,>=3.20.3 in /usr/local/lib/python3.10/dist-packages (from tensorflow) (3.20.3)\n",
            "Requirement already satisfied: setuptools in /usr/local/lib/python3.10/dist-packages (from tensorflow) (67.7.2)\n",
            "Requirement already satisfied: six>=1.12.0 in /usr/local/lib/python3.10/dist-packages (from tensorflow) (1.16.0)\n",
            "Requirement already satisfied: termcolor>=1.1.0 in /usr/local/lib/python3.10/dist-packages (from tensorflow) (2.4.0)\n",
            "Requirement already satisfied: typing-extensions>=3.6.6 in /usr/local/lib/python3.10/dist-packages (from tensorflow) (4.12.2)\n",
            "Requirement already satisfied: wrapt<1.15,>=1.11.0 in /usr/local/lib/python3.10/dist-packages (from tensorflow) (1.14.1)\n",
            "Requirement already satisfied: tensorflow-io-gcs-filesystem>=0.23.1 in /usr/local/lib/python3.10/dist-packages (from tensorflow) (0.37.0)\n",
            "Requirement already satisfied: grpcio<2.0,>=1.24.3 in /usr/local/lib/python3.10/dist-packages (from tensorflow) (1.64.1)\n",
            "Requirement already satisfied: tensorboard<2.16,>=2.15 in /usr/local/lib/python3.10/dist-packages (from tensorflow) (2.15.2)\n",
            "Requirement already satisfied: tensorflow-estimator<2.16,>=2.15.0 in /usr/local/lib/python3.10/dist-packages (from tensorflow) (2.15.0)\n",
            "Requirement already satisfied: keras<2.16,>=2.15.0 in /usr/local/lib/python3.10/dist-packages (from tensorflow) (2.15.0)\n",
            "Requirement already satisfied: wheel<1.0,>=0.23.0 in /usr/local/lib/python3.10/dist-packages (from astunparse>=1.6.0->tensorflow) (0.43.0)\n",
            "Requirement already satisfied: google-auth<3,>=1.6.3 in /usr/local/lib/python3.10/dist-packages (from tensorboard<2.16,>=2.15->tensorflow) (2.27.0)\n",
            "Requirement already satisfied: google-auth-oauthlib<2,>=0.5 in /usr/local/lib/python3.10/dist-packages (from tensorboard<2.16,>=2.15->tensorflow) (1.2.0)\n",
            "Requirement already satisfied: markdown>=2.6.8 in /usr/local/lib/python3.10/dist-packages (from tensorboard<2.16,>=2.15->tensorflow) (3.6)\n",
            "Requirement already satisfied: requests<3,>=2.21.0 in /usr/local/lib/python3.10/dist-packages (from tensorboard<2.16,>=2.15->tensorflow) (2.31.0)\n",
            "Requirement already satisfied: tensorboard-data-server<0.8.0,>=0.7.0 in /usr/local/lib/python3.10/dist-packages (from tensorboard<2.16,>=2.15->tensorflow) (0.7.2)\n",
            "Requirement already satisfied: werkzeug>=1.0.1 in /usr/local/lib/python3.10/dist-packages (from tensorboard<2.16,>=2.15->tensorflow) (3.0.3)\n",
            "Requirement already satisfied: cachetools<6.0,>=2.0.0 in /usr/local/lib/python3.10/dist-packages (from google-auth<3,>=1.6.3->tensorboard<2.16,>=2.15->tensorflow) (5.3.3)\n",
            "Requirement already satisfied: pyasn1-modules>=0.2.1 in /usr/local/lib/python3.10/dist-packages (from google-auth<3,>=1.6.3->tensorboard<2.16,>=2.15->tensorflow) (0.4.0)\n",
            "Requirement already satisfied: rsa<5,>=3.1.4 in /usr/local/lib/python3.10/dist-packages (from google-auth<3,>=1.6.3->tensorboard<2.16,>=2.15->tensorflow) (4.9)\n",
            "Requirement already satisfied: requests-oauthlib>=0.7.0 in /usr/local/lib/python3.10/dist-packages (from google-auth-oauthlib<2,>=0.5->tensorboard<2.16,>=2.15->tensorflow) (1.3.1)\n",
            "Requirement already satisfied: charset-normalizer<4,>=2 in /usr/local/lib/python3.10/dist-packages (from requests<3,>=2.21.0->tensorboard<2.16,>=2.15->tensorflow) (3.3.2)\n",
            "Requirement already satisfied: idna<4,>=2.5 in /usr/local/lib/python3.10/dist-packages (from requests<3,>=2.21.0->tensorboard<2.16,>=2.15->tensorflow) (3.7)\n",
            "Requirement already satisfied: urllib3<3,>=1.21.1 in /usr/local/lib/python3.10/dist-packages (from requests<3,>=2.21.0->tensorboard<2.16,>=2.15->tensorflow) (2.0.7)\n",
            "Requirement already satisfied: certifi>=2017.4.17 in /usr/local/lib/python3.10/dist-packages (from requests<3,>=2.21.0->tensorboard<2.16,>=2.15->tensorflow) (2024.6.2)\n",
            "Requirement already satisfied: MarkupSafe>=2.1.1 in /usr/local/lib/python3.10/dist-packages (from werkzeug>=1.0.1->tensorboard<2.16,>=2.15->tensorflow) (2.1.5)\n",
            "Requirement already satisfied: pyasn1<0.7.0,>=0.4.6 in /usr/local/lib/python3.10/dist-packages (from pyasn1-modules>=0.2.1->google-auth<3,>=1.6.3->tensorboard<2.16,>=2.15->tensorflow) (0.6.0)\n",
            "Requirement already satisfied: oauthlib>=3.0.0 in /usr/local/lib/python3.10/dist-packages (from requests-oauthlib>=0.7.0->google-auth-oauthlib<2,>=0.5->tensorboard<2.16,>=2.15->tensorflow) (3.2.2)\n"
          ]
        }
      ],
      "source": [
        "pip install tensorflow"
      ]
    },
    {
      "cell_type": "code",
      "execution_count": 4,
      "metadata": {
        "colab": {
          "base_uri": "https://localhost:8080/"
        },
        "id": "5jTpqQYzdBkL",
        "outputId": "65c1203a-ef0a-4688-d928-bb84251bc8ae"
      },
      "outputs": [
        {
          "output_type": "stream",
          "name": "stdout",
          "text": [
            "number of training examples = 600\n",
            "number of test examples = 150\n",
            "X_train shape: (600, 64, 64, 3)\n",
            "Y_train shape: (600, 1)\n",
            "X_test shape: (150, 64, 64, 3)\n",
            "Y_test shape: (150, 1)\n"
          ]
        }
      ],
      "source": [
        "X_train_orig, Y_train_orig, X_test_orig, Y_test_orig, classes = load_happy_dataset()\n",
        "\n",
        "# Normalize image vectors\n",
        "X_train = X_train_orig/255.\n",
        "X_test = X_test_orig/255.\n",
        "\n",
        "# Reshape\n",
        "Y_train = Y_train_orig.T\n",
        "Y_test = Y_test_orig.T\n",
        "\n",
        "print (\"number of training examples = \" + str(X_train.shape[0]))\n",
        "print (\"number of test examples = \" + str(X_test.shape[0]))\n",
        "print (\"X_train shape: \" + str(X_train.shape))\n",
        "print (\"Y_train shape: \" + str(Y_train.shape))\n",
        "print (\"X_test shape: \" + str(X_test.shape))\n",
        "print (\"Y_test shape: \" + str(Y_test.shape))\n"
      ]
    },
    {
      "cell_type": "code",
      "execution_count": 5,
      "metadata": {
        "colab": {
          "base_uri": "https://localhost:8080/",
          "height": 432
        },
        "id": "HAOqhBNtJyW8",
        "outputId": "db9c947d-e8c0-4331-8300-556473716857"
      },
      "outputs": [
        {
          "output_type": "display_data",
          "data": {
            "text/plain": [
              "<Figure size 640x480 with 1 Axes>"
            ],
            "image/png": "[encoded data removed]"
          },
          "metadata": {}
        }
      ],
      "source": [
        "index = 12\n",
        "plt.imshow(X_train_orig[index]) #display sample training image\n",
        "plt.show()"
      ]
    },
    {
      "cell_type": "markdown",
      "metadata": {
        "id": "UL0ZyhUSKjZU"
      },
      "source": [
        "###  \n",
        "    Implements the forward propagation for the binary classification model:\n",
        "    ZEROPAD2D -> CONV2D -> BATCHNORM -> RELU -> MAXPOOL -> FLATTEN -> DENSE"
      ]
    },
    {
      "cell_type": "code",
      "execution_count": 6,
      "metadata": {
        "id": "6ZjbIFJsKAQ4"
      },
      "outputs": [],
      "source": [
        "def happyModel():\n",
        "\n",
        "    model = tf.keras.Sequential([\n",
        "            ## ZeroPadding2D with padding 3, input shape of 64 x 64 x 3\n",
        "             tf.keras.layers.ZeroPadding2D(padding=(3, 3), input_shape=(64, 64, 3)),\n",
        "            ## Conv2D with 32 7x7 filters and stride of 1\n",
        "             tf.keras.layers.Conv2D(32,(7,7),strides = (1,1)),\n",
        "            ## BatchNormalization for axis 3\n",
        "             tf.keras.layers.BatchNormalization(axis=3),\n",
        "            ## ReLU\n",
        "             tf.keras.layers.ReLU(),\n",
        "            ## Max Pooling 2D with default parameters\n",
        "            tf.keras.layers.MaxPooling2D(pool_size=(2, 2), strides=(2, 2)),\n",
        "            ## Flatten layer\n",
        "             tf.keras.layers.Flatten(),\n",
        "            ## Dense layer with 1 unit for output & 'sigmoid' activation\n",
        "            tf.keras.layers.Dense(1, activation='sigmoid')\n",
        "\n",
        "\n",
        "        ])\n",
        "\n",
        "    return model"
      ]
    },
    {
      "cell_type": "code",
      "execution_count": 7,
      "metadata": {
        "colab": {
          "base_uri": "https://localhost:8080/"
        },
        "id": "_fRm6LyfK6eT",
        "outputId": "fd1b7ed2-b028-4b5b-f353-563bc2f13d53"
      },
      "outputs": [
        {
          "output_type": "stream",
          "name": "stdout",
          "text": [
            "['ZeroPadding2D', (None, 70, 70, 3), 0, ((3, 3), (3, 3))]\n",
            "['Conv2D', (None, 64, 64, 32), 4736, 'valid', 'linear', 'GlorotUniform']\n",
            "['BatchNormalization', (None, 64, 64, 32), 128]\n",
            "['ReLU', (None, 64, 64, 32), 0]\n",
            "['MaxPooling2D', (None, 32, 32, 32), 0, (2, 2), (2, 2), 'valid']\n",
            "['Flatten', (None, 32768), 0]\n",
            "['Dense', (None, 1), 32769, 'sigmoid']\n",
            "All tests passed!\n"
          ]
        }
      ],
      "source": [
        "happy_model = happyModel()\n",
        "# Print a summary for each layer\n",
        "for layer in summary(happy_model):\n",
        "    print(layer)\n",
        "\n",
        "output = [['ZeroPadding2D', (None, 70, 70, 3), 0, ((3, 3), (3, 3))],\n",
        "            ['Conv2D', (None, 64, 64, 32), 4736, 'valid', 'linear', 'GlorotUniform'],\n",
        "            ['BatchNormalization', (None, 64, 64, 32), 128],\n",
        "            ['ReLU', (None, 64, 64, 32), 0],\n",
        "            ['MaxPooling2D', (None, 32, 32, 32), 0, (2, 2), (2, 2), 'valid'],\n",
        "            ['Flatten', (None, 32768), 0],\n",
        "            ['Dense', (None, 1), 32769, 'sigmoid']]\n",
        "\n",
        "comparator(summary(happy_model), output)"
      ]
    },
    {
      "cell_type": "code",
      "execution_count": 8,
      "metadata": {
        "id": "q7TgbGsaK_u1"
      },
      "outputs": [],
      "source": [
        "happy_model.compile(optimizer='adam',\n",
        "                   loss='binary_crossentropy',\n",
        "                   metrics=['accuracy'])"
      ]
    },
    {
      "cell_type": "code",
      "execution_count": 9,
      "metadata": {
        "colab": {
          "base_uri": "https://localhost:8080/"
        },
        "id": "K4p44C-WLFUC",
        "outputId": "1685fa10-13d5-4caa-f183-d7048310b32c"
      },
      "outputs": [
        {
          "output_type": "stream",
          "name": "stdout",
          "text": [
            "Model: \"sequential\"\n",
            "_________________________________________________________________\n",
            " Layer (type)                Output Shape              Param #   \n",
            "=================================================================\n",
            " zero_padding2d (ZeroPaddin  (None, 70, 70, 3)         0         \n",
            " g2D)                                                            \n",
            "                                                                 \n",
            " conv2d (Conv2D)             (None, 64, 64, 32)        4736      \n",
            "                                                                 \n",
            " batch_normalization (Batch  (None, 64, 64, 32)        128       \n",
            " Normalization)                                                  \n",
            "                                                                 \n",
            " re_lu (ReLU)                (None, 64, 64, 32)        0         \n",
            "                                                                 \n",
            " max_pooling2d (MaxPooling2  (None, 32, 32, 32)        0         \n",
            " D)                                                              \n",
            "                                                                 \n",
            " flatten (Flatten)           (None, 32768)             0         \n",
            "                                                                 \n",
            " dense (Dense)               (None, 1)                 32769     \n",
            "                                                                 \n",
            "=================================================================\n",
            "Total params: 37633 (147.00 KB)\n",
            "Trainable params: 37569 (146.75 KB)\n",
            "Non-trainable params: 64 (256.00 Byte)\n",
            "_________________________________________________________________\n"
          ]
        }
      ],
      "source": [
        "happy_model.summary()"
      ]
    },
    {
      "cell_type": "code",
      "execution_count": 10,
      "metadata": {
        "colab": {
          "base_uri": "https://localhost:8080/"
        },
        "id": "UsbtCs__LRXV",
        "outputId": "54aa14a0-be92-4ef2-babc-ee14a6757a4e"
      },
      "outputs": [
        {
          "output_type": "stream",
          "name": "stdout",
          "text": [
            "Epoch 1/100\n",
            "38/38 [==============================] - 12s 281ms/step - loss: 0.9163 - accuracy: 0.7333 - val_loss: 0.8032 - val_accuracy: 0.5533\n",
            "Epoch 2/100\n",
            "38/38 [==============================] - 10s 272ms/step - loss: 0.2570 - accuracy: 0.8967 - val_loss: 0.4992 - val_accuracy: 0.6600\n",
            "Epoch 3/100\n",
            "38/38 [==============================] - 8s 195ms/step - loss: 0.1084 - accuracy: 0.9667 - val_loss: 0.3587 - val_accuracy: 0.8667\n",
            "Epoch 4/100\n",
            "38/38 [==============================] - 5s 120ms/step - loss: 0.2000 - accuracy: 0.9183 - val_loss: 0.3246 - val_accuracy: 0.8267\n",
            "Epoch 5/100\n",
            "38/38 [==============================] - 4s 101ms/step - loss: 0.1220 - accuracy: 0.9517 - val_loss: 0.2341 - val_accuracy: 0.9200\n",
            "Epoch 6/100\n",
            "38/38 [==============================] - 5s 121ms/step - loss: 0.0926 - accuracy: 0.9683 - val_loss: 0.1853 - val_accuracy: 0.9467\n",
            "Epoch 7/100\n",
            "38/38 [==============================] - 6s 155ms/step - loss: 0.0858 - accuracy: 0.9783 - val_loss: 0.1771 - val_accuracy: 0.9333\n",
            "Epoch 8/100\n",
            "38/38 [==============================] - 4s 114ms/step - loss: 0.0735 - accuracy: 0.9783 - val_loss: 0.3316 - val_accuracy: 0.8400\n",
            "Epoch 9/100\n",
            "38/38 [==============================] - 5s 131ms/step - loss: 0.1017 - accuracy: 0.9583 - val_loss: 0.1230 - val_accuracy: 0.9667\n",
            "Epoch 10/100\n",
            "38/38 [==============================] - 6s 154ms/step - loss: 0.1176 - accuracy: 0.9550 - val_loss: 0.1265 - val_accuracy: 0.9533\n",
            "Epoch 11/100\n",
            "38/38 [==============================] - 4s 103ms/step - loss: 0.0703 - accuracy: 0.9783 - val_loss: 0.4568 - val_accuracy: 0.8267\n",
            "Epoch 12/100\n",
            "38/38 [==============================] - 4s 104ms/step - loss: 0.0612 - accuracy: 0.9850 - val_loss: 0.1561 - val_accuracy: 0.9333\n",
            "Epoch 13/100\n",
            "38/38 [==============================] - 6s 165ms/step - loss: 0.0920 - accuracy: 0.9667 - val_loss: 0.1136 - val_accuracy: 0.9667\n",
            "Epoch 14/100\n",
            "38/38 [==============================] - 4s 116ms/step - loss: 0.0813 - accuracy: 0.9850 - val_loss: 0.4818 - val_accuracy: 0.8400\n",
            "Epoch 15/100\n",
            "38/38 [==============================] - 4s 106ms/step - loss: 0.0709 - accuracy: 0.9767 - val_loss: 0.1734 - val_accuracy: 0.9267\n",
            "Epoch 16/100\n",
            "38/38 [==============================] - 7s 180ms/step - loss: 0.0375 - accuracy: 0.9833 - val_loss: 0.1125 - val_accuracy: 0.9600\n",
            "Epoch 17/100\n",
            "38/38 [==============================] - 4s 107ms/step - loss: 0.0710 - accuracy: 0.9817 - val_loss: 0.1028 - val_accuracy: 0.9467\n",
            "Epoch 18/100\n",
            "38/38 [==============================] - 4s 106ms/step - loss: 0.1096 - accuracy: 0.9650 - val_loss: 0.3335 - val_accuracy: 0.8800\n",
            "Epoch 19/100\n",
            "38/38 [==============================] - 7s 178ms/step - loss: 0.0590 - accuracy: 0.9783 - val_loss: 2.2147 - val_accuracy: 0.5933\n",
            "Epoch 20/100\n",
            "38/38 [==============================] - 4s 108ms/step - loss: 0.0795 - accuracy: 0.9667 - val_loss: 0.6310 - val_accuracy: 0.7800\n",
            "Epoch 21/100\n",
            "38/38 [==============================] - 4s 115ms/step - loss: 0.0478 - accuracy: 0.9800 - val_loss: 0.1351 - val_accuracy: 0.9533\n",
            "Epoch 22/100\n",
            "38/38 [==============================] - 7s 195ms/step - loss: 0.1581 - accuracy: 0.9567 - val_loss: 4.7324 - val_accuracy: 0.5600\n",
            "Epoch 23/100\n",
            "38/38 [==============================] - 12s 313ms/step - loss: 0.0751 - accuracy: 0.9783 - val_loss: 0.5853 - val_accuracy: 0.8267\n",
            "Epoch 24/100\n",
            "38/38 [==============================] - 11s 277ms/step - loss: 0.0920 - accuracy: 0.9717 - val_loss: 0.7929 - val_accuracy: 0.7733\n",
            "Epoch 25/100\n",
            "38/38 [==============================] - 4s 116ms/step - loss: 0.0530 - accuracy: 0.9883 - val_loss: 1.2638 - val_accuracy: 0.6533\n",
            "Epoch 26/100\n",
            "38/38 [==============================] - 7s 173ms/step - loss: 0.0601 - accuracy: 0.9817 - val_loss: 0.8536 - val_accuracy: 0.8067\n",
            "Epoch 27/100\n",
            "38/38 [==============================] - 4s 102ms/step - loss: 0.0912 - accuracy: 0.9700 - val_loss: 0.0895 - val_accuracy: 0.9733\n",
            "Epoch 28/100\n",
            "38/38 [==============================] - 4s 107ms/step - loss: 0.0743 - accuracy: 0.9750 - val_loss: 0.0995 - val_accuracy: 0.9667\n",
            "Epoch 29/100\n",
            "38/38 [==============================] - 6s 169ms/step - loss: 0.0483 - accuracy: 0.9867 - val_loss: 0.1935 - val_accuracy: 0.9467\n",
            "Epoch 30/100\n",
            "38/38 [==============================] - 4s 106ms/step - loss: 0.3056 - accuracy: 0.9250 - val_loss: 0.6512 - val_accuracy: 0.7933\n",
            "Epoch 31/100\n",
            "38/38 [==============================] - 4s 103ms/step - loss: 0.0604 - accuracy: 0.9800 - val_loss: 0.5420 - val_accuracy: 0.8533\n",
            "Epoch 32/100\n",
            "38/38 [==============================] - 5s 145ms/step - loss: 0.0947 - accuracy: 0.9733 - val_loss: 5.7829 - val_accuracy: 0.5600\n",
            "Epoch 33/100\n",
            "38/38 [==============================] - 5s 129ms/step - loss: 0.0450 - accuracy: 0.9800 - val_loss: 5.3025 - val_accuracy: 0.5600\n",
            "Epoch 34/100\n",
            "38/38 [==============================] - 4s 109ms/step - loss: 0.0222 - accuracy: 0.9933 - val_loss: 0.5113 - val_accuracy: 0.8333\n",
            "Epoch 35/100\n",
            "38/38 [==============================] - 6s 156ms/step - loss: 0.0295 - accuracy: 0.9900 - val_loss: 0.2909 - val_accuracy: 0.9067\n",
            "Epoch 36/100\n",
            "38/38 [==============================] - 5s 128ms/step - loss: 0.0384 - accuracy: 0.9833 - val_loss: 0.1844 - val_accuracy: 0.9200\n",
            "Epoch 37/100\n",
            "38/38 [==============================] - 4s 115ms/step - loss: 0.0630 - accuracy: 0.9783 - val_loss: 0.1432 - val_accuracy: 0.9400\n",
            "Epoch 38/100\n",
            "38/38 [==============================] - 5s 133ms/step - loss: 0.0316 - accuracy: 0.9900 - val_loss: 0.1598 - val_accuracy: 0.9467\n",
            "Epoch 39/100\n",
            "38/38 [==============================] - 5s 140ms/step - loss: 0.0335 - accuracy: 0.9900 - val_loss: 0.1576 - val_accuracy: 0.9533\n",
            "Epoch 40/100\n",
            "38/38 [==============================] - 4s 105ms/step - loss: 0.0586 - accuracy: 0.9750 - val_loss: 0.1541 - val_accuracy: 0.9467\n",
            "Epoch 41/100\n",
            "38/38 [==============================] - 5s 122ms/step - loss: 0.0614 - accuracy: 0.9833 - val_loss: 0.1578 - val_accuracy: 0.9400\n",
            "Epoch 42/100\n",
            "38/38 [==============================] - 6s 160ms/step - loss: 0.0081 - accuracy: 0.9967 - val_loss: 0.1642 - val_accuracy: 0.9533\n",
            "Epoch 43/100\n",
            "38/38 [==============================] - 4s 112ms/step - loss: 0.0421 - accuracy: 0.9900 - val_loss: 0.1259 - val_accuracy: 0.9600\n",
            "Epoch 44/100\n",
            "38/38 [==============================] - 4s 110ms/step - loss: 0.0682 - accuracy: 0.9800 - val_loss: 0.1882 - val_accuracy: 0.9533\n",
            "Epoch 45/100\n",
            "38/38 [==============================] - 8s 206ms/step - loss: 0.0456 - accuracy: 0.9850 - val_loss: 1.6704 - val_accuracy: 0.7333\n",
            "Epoch 46/100\n",
            "38/38 [==============================] - 4s 103ms/step - loss: 0.0366 - accuracy: 0.9867 - val_loss: 0.1609 - val_accuracy: 0.9533\n",
            "Epoch 47/100\n",
            "38/38 [==============================] - 4s 105ms/step - loss: 0.0083 - accuracy: 0.9967 - val_loss: 0.1029 - val_accuracy: 0.9533\n",
            "Epoch 48/100\n",
            "38/38 [==============================] - 6s 163ms/step - loss: 0.0306 - accuracy: 0.9867 - val_loss: 0.1442 - val_accuracy: 0.9733\n",
            "Epoch 49/100\n",
            "38/38 [==============================] - 4s 105ms/step - loss: 0.1048 - accuracy: 0.9733 - val_loss: 0.2047 - val_accuracy: 0.9600\n",
            "Epoch 50/100\n",
            "38/38 [==============================] - 4s 105ms/step - loss: 0.0376 - accuracy: 0.9933 - val_loss: 0.1557 - val_accuracy: 0.9533\n",
            "Epoch 51/100\n",
            "38/38 [==============================] - 7s 179ms/step - loss: 0.1325 - accuracy: 0.9567 - val_loss: 3.8632 - val_accuracy: 0.5733\n",
            "Epoch 52/100\n",
            "38/38 [==============================] - 4s 110ms/step - loss: 0.1433 - accuracy: 0.9483 - val_loss: 3.9768 - val_accuracy: 0.5667\n",
            "Epoch 53/100\n",
            "38/38 [==============================] - 4s 110ms/step - loss: 0.0396 - accuracy: 0.9850 - val_loss: 0.8183 - val_accuracy: 0.8600\n",
            "Epoch 54/100\n",
            "38/38 [==============================] - 6s 150ms/step - loss: 0.0251 - accuracy: 0.9900 - val_loss: 0.1282 - val_accuracy: 0.9533\n",
            "Epoch 55/100\n",
            "38/38 [==============================] - 5s 117ms/step - loss: 0.0220 - accuracy: 0.9950 - val_loss: 0.0936 - val_accuracy: 0.9600\n",
            "Epoch 56/100\n",
            "38/38 [==============================] - 4s 114ms/step - loss: 0.0610 - accuracy: 0.9817 - val_loss: 0.0848 - val_accuracy: 0.9600\n",
            "Epoch 57/100\n",
            "38/38 [==============================] - 5s 143ms/step - loss: 0.0605 - accuracy: 0.9833 - val_loss: 0.2851 - val_accuracy: 0.9000\n",
            "Epoch 58/100\n",
            "38/38 [==============================] - 5s 136ms/step - loss: 0.0259 - accuracy: 0.9917 - val_loss: 0.1595 - val_accuracy: 0.9667\n",
            "Epoch 59/100\n",
            "38/38 [==============================] - 4s 103ms/step - loss: 0.0276 - accuracy: 0.9933 - val_loss: 0.0814 - val_accuracy: 0.9733\n",
            "Epoch 60/100\n",
            "38/38 [==============================] - 4s 119ms/step - loss: 0.0033 - accuracy: 0.9983 - val_loss: 0.1196 - val_accuracy: 0.9600\n",
            "Epoch 61/100\n",
            "38/38 [==============================] - 6s 152ms/step - loss: 8.9654e-04 - accuracy: 1.0000 - val_loss: 0.1126 - val_accuracy: 0.9533\n",
            "Epoch 62/100\n",
            "38/38 [==============================] - 4s 108ms/step - loss: 0.0042 - accuracy: 0.9967 - val_loss: 0.1170 - val_accuracy: 0.9533\n",
            "Epoch 63/100\n",
            "38/38 [==============================] - 4s 114ms/step - loss: 0.0034 - accuracy: 0.9983 - val_loss: 0.1475 - val_accuracy: 0.9667\n",
            "Epoch 64/100\n",
            "38/38 [==============================] - 6s 154ms/step - loss: 0.0127 - accuracy: 0.9950 - val_loss: 0.1765 - val_accuracy: 0.9667\n",
            "Epoch 65/100\n",
            "38/38 [==============================] - 4s 104ms/step - loss: 0.0127 - accuracy: 0.9933 - val_loss: 0.2268 - val_accuracy: 0.9467\n",
            "Epoch 66/100\n",
            "38/38 [==============================] - 4s 109ms/step - loss: 0.0345 - accuracy: 0.9917 - val_loss: 0.1264 - val_accuracy: 0.9600\n",
            "Epoch 67/100\n",
            "38/38 [==============================] - 6s 161ms/step - loss: 0.0058 - accuracy: 0.9967 - val_loss: 0.1071 - val_accuracy: 0.9667\n",
            "Epoch 68/100\n",
            "38/38 [==============================] - 4s 104ms/step - loss: 0.0071 - accuracy: 0.9950 - val_loss: 0.1247 - val_accuracy: 0.9600\n",
            "Epoch 69/100\n",
            "38/38 [==============================] - 4s 110ms/step - loss: 0.0180 - accuracy: 0.9950 - val_loss: 0.1438 - val_accuracy: 0.9667\n",
            "Epoch 70/100\n",
            "38/38 [==============================] - 6s 168ms/step - loss: 0.0101 - accuracy: 0.9967 - val_loss: 0.0847 - val_accuracy: 0.9800\n",
            "Epoch 71/100\n",
            "38/38 [==============================] - 4s 108ms/step - loss: 0.1253 - accuracy: 0.9733 - val_loss: 0.3636 - val_accuracy: 0.9533\n",
            "Epoch 72/100\n",
            "38/38 [==============================] - 4s 109ms/step - loss: 0.0654 - accuracy: 0.9850 - val_loss: 0.2005 - val_accuracy: 0.9600\n",
            "Epoch 73/100\n",
            "38/38 [==============================] - 5s 141ms/step - loss: 0.0248 - accuracy: 0.9917 - val_loss: 0.5906 - val_accuracy: 0.8800\n",
            "Epoch 74/100\n",
            "38/38 [==============================] - 5s 126ms/step - loss: 0.0202 - accuracy: 0.9950 - val_loss: 0.1974 - val_accuracy: 0.9400\n",
            "Epoch 75/100\n",
            "38/38 [==============================] - 4s 107ms/step - loss: 0.0103 - accuracy: 0.9983 - val_loss: 0.1112 - val_accuracy: 0.9600\n",
            "Epoch 76/100\n",
            "38/38 [==============================] - 5s 137ms/step - loss: 5.1719e-04 - accuracy: 1.0000 - val_loss: 0.1061 - val_accuracy: 0.9600\n",
            "Epoch 77/100\n",
            "38/38 [==============================] - 6s 149ms/step - loss: 5.4037e-04 - accuracy: 1.0000 - val_loss: 0.1166 - val_accuracy: 0.9600\n",
            "Epoch 78/100\n",
            "38/38 [==============================] - 4s 113ms/step - loss: 0.0018 - accuracy: 1.0000 - val_loss: 0.1417 - val_accuracy: 0.9600\n",
            "Epoch 79/100\n",
            "38/38 [==============================] - 5s 121ms/step - loss: 0.0051 - accuracy: 0.9983 - val_loss: 0.5055 - val_accuracy: 0.9067\n",
            "Epoch 80/100\n",
            "38/38 [==============================] - 6s 161ms/step - loss: 0.0191 - accuracy: 0.9967 - val_loss: 0.1026 - val_accuracy: 0.9600\n",
            "Epoch 81/100\n",
            "38/38 [==============================] - 4s 108ms/step - loss: 0.0148 - accuracy: 0.9967 - val_loss: 0.1323 - val_accuracy: 0.9600\n",
            "Epoch 82/100\n",
            "38/38 [==============================] - 5s 120ms/step - loss: 0.0100 - accuracy: 0.9950 - val_loss: 0.1028 - val_accuracy: 0.9667\n",
            "Epoch 83/100\n",
            "38/38 [==============================] - 6s 157ms/step - loss: 0.0187 - accuracy: 0.9950 - val_loss: 0.1286 - val_accuracy: 0.9800\n",
            "Epoch 84/100\n",
            "38/38 [==============================] - 4s 109ms/step - loss: 0.0027 - accuracy: 0.9983 - val_loss: 0.1142 - val_accuracy: 0.9667\n",
            "Epoch 85/100\n",
            "38/38 [==============================] - 4s 109ms/step - loss: 3.7092e-04 - accuracy: 1.0000 - val_loss: 0.0933 - val_accuracy: 0.9667\n",
            "Epoch 86/100\n",
            "38/38 [==============================] - 7s 177ms/step - loss: 8.2817e-04 - accuracy: 1.0000 - val_loss: 0.0935 - val_accuracy: 0.9600\n",
            "Epoch 87/100\n",
            "38/38 [==============================] - 4s 115ms/step - loss: 5.3566e-04 - accuracy: 1.0000 - val_loss: 0.1006 - val_accuracy: 0.9667\n",
            "Epoch 88/100\n",
            "38/38 [==============================] - 4s 107ms/step - loss: 4.8187e-04 - accuracy: 1.0000 - val_loss: 0.0936 - val_accuracy: 0.9600\n",
            "Epoch 89/100\n",
            "38/38 [==============================] - 6s 171ms/step - loss: 4.2844e-04 - accuracy: 1.0000 - val_loss: 0.0924 - val_accuracy: 0.9600\n",
            "Epoch 90/100\n",
            "38/38 [==============================] - 4s 106ms/step - loss: 3.2888e-04 - accuracy: 1.0000 - val_loss: 0.0872 - val_accuracy: 0.9667\n",
            "Epoch 91/100\n",
            "38/38 [==============================] - 4s 109ms/step - loss: 1.5556e-04 - accuracy: 1.0000 - val_loss: 0.0838 - val_accuracy: 0.9667\n",
            "Epoch 92/100\n",
            "38/38 [==============================] - 6s 169ms/step - loss: 7.1942e-05 - accuracy: 1.0000 - val_loss: 0.0829 - val_accuracy: 0.9600\n",
            "Epoch 93/100\n",
            "38/38 [==============================] - 4s 108ms/step - loss: 7.1304e-05 - accuracy: 1.0000 - val_loss: 0.0822 - val_accuracy: 0.9667\n",
            "Epoch 94/100\n",
            "38/38 [==============================] - 4s 106ms/step - loss: 6.9741e-05 - accuracy: 1.0000 - val_loss: 0.0822 - val_accuracy: 0.9600\n",
            "Epoch 95/100\n",
            "38/38 [==============================] - 6s 155ms/step - loss: 8.8356e-05 - accuracy: 1.0000 - val_loss: 0.0827 - val_accuracy: 0.9600\n",
            "Epoch 96/100\n",
            "38/38 [==============================] - 5s 125ms/step - loss: 7.4704e-05 - accuracy: 1.0000 - val_loss: 0.0810 - val_accuracy: 0.9667\n",
            "Epoch 97/100\n",
            "38/38 [==============================] - 4s 108ms/step - loss: 5.2644e-05 - accuracy: 1.0000 - val_loss: 0.0809 - val_accuracy: 0.9600\n",
            "Epoch 98/100\n",
            "38/38 [==============================] - 6s 151ms/step - loss: 6.3503e-05 - accuracy: 1.0000 - val_loss: 0.0807 - val_accuracy: 0.9600\n",
            "Epoch 99/100\n",
            "38/38 [==============================] - 5s 122ms/step - loss: 6.6715e-05 - accuracy: 1.0000 - val_loss: 0.0810 - val_accuracy: 0.9600\n",
            "Epoch 100/100\n",
            "38/38 [==============================] - 4s 108ms/step - loss: 6.2309e-05 - accuracy: 1.0000 - val_loss: 0.0809 - val_accuracy: 0.9600\n"
          ]
        }
      ],
      "source": [
        "history  = happy_model.fit(X_train, Y_train, epochs=100, batch_size=16,validation_data=(X_test, Y_test))"
      ]
    },
    {
      "cell_type": "code",
      "execution_count": 11,
      "metadata": {
        "colab": {
          "base_uri": "https://localhost:8080/"
        },
        "id": "A_oSzO-9LZeo",
        "outputId": "1fc9c520-9e4b-44b0-ae68-8448d2342be3"
      },
      "outputs": [
        {
          "output_type": "stream",
          "name": "stdout",
          "text": [
            "5/5 [==============================] - 0s 56ms/step - loss: 0.0809 - accuracy: 0.9600\n"
          ]
        },
        {
          "output_type": "execute_result",
          "data": {
            "text/plain": [
              "[0.08087220788002014, 0.9599999785423279]"
            ]
          },
          "metadata": {},
          "execution_count": 11
        }
      ],
      "source": [
        "happy_model.evaluate(X_test, Y_test)"
      ]
    },
    {
      "cell_type": "code",
      "source": [],
      "metadata": {
        "id": "j8hHuKfE7lGD"
      },
      "execution_count": 11,
      "outputs": []
    },
    {
      "cell_type": "code",
      "execution_count": 12,
      "metadata": {
        "colab": {
          "base_uri": "https://localhost:8080/"
        },
        "id": "n3TCCpvFLbZV",
        "outputId": "586adb26-035f-4771-f3be-62304d8672b8"
      },
      "outputs": [
        {
          "output_type": "execute_result",
          "data": {
            "text/plain": [
              "{'loss': [0.9163400530815125,\n",
              "  0.2570410370826721,\n",
              "  0.10835164040327072,\n",
              "  0.20002523064613342,\n",
              "  0.12196101993322372,\n",
              "  0.09261777251958847,\n",
              "  0.08580786734819412,\n",
              "  0.07346722483634949,\n",
              "  0.10173923522233963,\n",
              "  0.11761651188135147,\n",
              "  0.07028651982545853,\n",
              "  0.06115952879190445,\n",
              "  0.0920000672340393,\n",
              "  0.0813274160027504,\n",
              "  0.07092823833227158,\n",
              "  0.037511229515075684,\n",
              "  0.07102925330400467,\n",
              "  0.10963915288448334,\n",
              "  0.05903663486242294,\n",
              "  0.07949940115213394,\n",
              "  0.04777048900723457,\n",
              "  0.15813401341438293,\n",
              "  0.07513654977083206,\n",
              "  0.09197740256786346,\n",
              "  0.05304199084639549,\n",
              "  0.06008533388376236,\n",
              "  0.09120611101388931,\n",
              "  0.07425608485937119,\n",
              "  0.048320721834897995,\n",
              "  0.3056260645389557,\n",
              "  0.060353267937898636,\n",
              "  0.09469835460186005,\n",
              "  0.04501098021864891,\n",
              "  0.02216373197734356,\n",
              "  0.029508832842111588,\n",
              "  0.038401540368795395,\n",
              "  0.06298080086708069,\n",
              "  0.031621478497982025,\n",
              "  0.03354107216000557,\n",
              "  0.05858397111296654,\n",
              "  0.06139539182186127,\n",
              "  0.008105006068944931,\n",
              "  0.04206259921193123,\n",
              "  0.06824193149805069,\n",
              "  0.045577824115753174,\n",
              "  0.0366421639919281,\n",
              "  0.008337597362697124,\n",
              "  0.030599670484662056,\n",
              "  0.10483048856258392,\n",
              "  0.03759625926613808,\n",
              "  0.1325160264968872,\n",
              "  0.14327841997146606,\n",
              "  0.039642155170440674,\n",
              "  0.02513078972697258,\n",
              "  0.021979868412017822,\n",
              "  0.06099724397063255,\n",
              "  0.06045073643326759,\n",
              "  0.025922873988747597,\n",
              "  0.027567869052290916,\n",
              "  0.0033244655933231115,\n",
              "  0.0008965431479737163,\n",
              "  0.004183707758784294,\n",
              "  0.0034017888829112053,\n",
              "  0.012675347737967968,\n",
              "  0.012707904912531376,\n",
              "  0.03446473553776741,\n",
              "  0.005792201496660709,\n",
              "  0.0070552946999669075,\n",
              "  0.017969230189919472,\n",
              "  0.010097506456077099,\n",
              "  0.12526793777942657,\n",
              "  0.06544254720211029,\n",
              "  0.024750787764787674,\n",
              "  0.02023244835436344,\n",
              "  0.010296034626662731,\n",
              "  0.0005171947996132076,\n",
              "  0.0005403687828220427,\n",
              "  0.0018003096338361502,\n",
              "  0.005095961038023233,\n",
              "  0.01905028708279133,\n",
              "  0.014777055941522121,\n",
              "  0.010025089606642723,\n",
              "  0.018694674596190453,\n",
              "  0.0027005341835319996,\n",
              "  0.000370918947737664,\n",
              "  0.0008281738846562803,\n",
              "  0.0005356583278626204,\n",
              "  0.00048186813364736736,\n",
              "  0.0004284382739569992,\n",
              "  0.0003288776788394898,\n",
              "  0.00015555747086182237,\n",
              "  7.194248610176146e-05,\n",
              "  7.130423909984529e-05,\n",
              "  6.974102143431082e-05,\n",
              "  8.835574408294633e-05,\n",
              "  7.470359560102224e-05,\n",
              "  5.2644292736658826e-05,\n",
              "  6.350270996335894e-05,\n",
              "  6.671505252597854e-05,\n",
              "  6.230854341993108e-05],\n",
              " 'accuracy': [0.7333333492279053,\n",
              "  0.8966666460037231,\n",
              "  0.9666666388511658,\n",
              "  0.9183333516120911,\n",
              "  0.9516666531562805,\n",
              "  0.9683333039283752,\n",
              "  0.9783333539962769,\n",
              "  0.9783333539962769,\n",
              "  0.9583333134651184,\n",
              "  0.9549999833106995,\n",
              "  0.9783333539962769,\n",
              "  0.9850000143051147,\n",
              "  0.9666666388511658,\n",
              "  0.9850000143051147,\n",
              "  0.9766666889190674,\n",
              "  0.9833333492279053,\n",
              "  0.9816666841506958,\n",
              "  0.9649999737739563,\n",
              "  0.9783333539962769,\n",
              "  0.9666666388511658,\n",
              "  0.9800000190734863,\n",
              "  0.9566666483879089,\n",
              "  0.9783333539962769,\n",
              "  0.971666693687439,\n",
              "  0.9883333444595337,\n",
              "  0.9816666841506958,\n",
              "  0.9700000286102295,\n",
              "  0.9750000238418579,\n",
              "  0.9866666793823242,\n",
              "  0.925000011920929,\n",
              "  0.9800000190734863,\n",
              "  0.9733333587646484,\n",
              "  0.9800000190734863,\n",
              "  0.9933333396911621,\n",
              "  0.9900000095367432,\n",
              "  0.9833333492279053,\n",
              "  0.9783333539962769,\n",
              "  0.9900000095367432,\n",
              "  0.9900000095367432,\n",
              "  0.9750000238418579,\n",
              "  0.9833333492279053,\n",
              "  0.996666669845581,\n",
              "  0.9900000095367432,\n",
              "  0.9800000190734863,\n",
              "  0.9850000143051147,\n",
              "  0.9866666793823242,\n",
              "  0.996666669845581,\n",
              "  0.9866666793823242,\n",
              "  0.9733333587646484,\n",
              "  0.9933333396911621,\n",
              "  0.9566666483879089,\n",
              "  0.9483333230018616,\n",
              "  0.9850000143051147,\n",
              "  0.9900000095367432,\n",
              "  0.9950000047683716,\n",
              "  0.9816666841506958,\n",
              "  0.9833333492279053,\n",
              "  0.9916666746139526,\n",
              "  0.9933333396911621,\n",
              "  0.9983333349227905,\n",
              "  1.0,\n",
              "  0.996666669845581,\n",
              "  0.9983333349227905,\n",
              "  0.9950000047683716,\n",
              "  0.9933333396911621,\n",
              "  0.9916666746139526,\n",
              "  0.996666669845581,\n",
              "  0.9950000047683716,\n",
              "  0.9950000047683716,\n",
              "  0.996666669845581,\n",
              "  0.9733333587646484,\n",
              "  0.9850000143051147,\n",
              "  0.9916666746139526,\n",
              "  0.9950000047683716,\n",
              "  0.9983333349227905,\n",
              "  1.0,\n",
              "  1.0,\n",
              "  1.0,\n",
              "  0.9983333349227905,\n",
              "  0.996666669845581,\n",
              "  0.996666669845581,\n",
              "  0.9950000047683716,\n",
              "  0.9950000047683716,\n",
              "  0.9983333349227905,\n",
              "  1.0,\n",
              "  1.0,\n",
              "  1.0,\n",
              "  1.0,\n",
              "  1.0,\n",
              "  1.0,\n",
              "  1.0,\n",
              "  1.0,\n",
              "  1.0,\n",
              "  1.0,\n",
              "  1.0,\n",
              "  1.0,\n",
              "  1.0,\n",
              "  1.0,\n",
              "  1.0,\n",
              "  1.0],\n",
              " 'val_loss': [0.8031959533691406,\n",
              "  0.4992242455482483,\n",
              "  0.3587077558040619,\n",
              "  0.3246271014213562,\n",
              "  0.23405815660953522,\n",
              "  0.18534022569656372,\n",
              "  0.17710983753204346,\n",
              "  0.3316119909286499,\n",
              "  0.1229708343744278,\n",
              "  0.12654517590999603,\n",
              "  0.4567902684211731,\n",
              "  0.15614087879657745,\n",
              "  0.1136024221777916,\n",
              "  0.48182108998298645,\n",
              "  0.17343538999557495,\n",
              "  0.11251716315746307,\n",
              "  0.1027795821428299,\n",
              "  0.33352237939834595,\n",
              "  2.2147278785705566,\n",
              "  0.6309717297554016,\n",
              "  0.1351042091846466,\n",
              "  4.732400894165039,\n",
              "  0.5852567553520203,\n",
              "  0.792891263961792,\n",
              "  1.2638065814971924,\n",
              "  0.8535798192024231,\n",
              "  0.08948380500078201,\n",
              "  0.09945393353700638,\n",
              "  0.19353936612606049,\n",
              "  0.6511657238006592,\n",
              "  0.5419729351997375,\n",
              "  5.782922267913818,\n",
              "  5.302492141723633,\n",
              "  0.5112995505332947,\n",
              "  0.2908955514431,\n",
              "  0.18437819182872772,\n",
              "  0.14317166805267334,\n",
              "  0.15980933606624603,\n",
              "  0.15755300223827362,\n",
              "  0.15405809879302979,\n",
              "  0.15777942538261414,\n",
              "  0.16417361795902252,\n",
              "  0.1258702278137207,\n",
              "  0.1881551593542099,\n",
              "  1.6704384088516235,\n",
              "  0.16086985170841217,\n",
              "  0.10293272882699966,\n",
              "  0.14416147768497467,\n",
              "  0.2047429233789444,\n",
              "  0.1557365506887436,\n",
              "  3.863208532333374,\n",
              "  3.9768412113189697,\n",
              "  0.8183382153511047,\n",
              "  0.12824787199497223,\n",
              "  0.09361477196216583,\n",
              "  0.08478402346372604,\n",
              "  0.2850518226623535,\n",
              "  0.15948644280433655,\n",
              "  0.0814196765422821,\n",
              "  0.11957330256700516,\n",
              "  0.11257976293563843,\n",
              "  0.11697152256965637,\n",
              "  0.14746586978435516,\n",
              "  0.17646348476409912,\n",
              "  0.22675859928131104,\n",
              "  0.12640193104743958,\n",
              "  0.1071028783917427,\n",
              "  0.1246650218963623,\n",
              "  0.14384321868419647,\n",
              "  0.08466678112745285,\n",
              "  0.36361780762672424,\n",
              "  0.2005460560321808,\n",
              "  0.5906168818473816,\n",
              "  0.19739608466625214,\n",
              "  0.11123902350664139,\n",
              "  0.10610801726579666,\n",
              "  0.11661705374717712,\n",
              "  0.14170585572719574,\n",
              "  0.505504310131073,\n",
              "  0.10258764028549194,\n",
              "  0.13232795894145966,\n",
              "  0.1027851328253746,\n",
              "  0.12855154275894165,\n",
              "  0.11423001438379288,\n",
              "  0.09334579855203629,\n",
              "  0.09348771721124649,\n",
              "  0.10060017555952072,\n",
              "  0.09355636686086655,\n",
              "  0.09239134192466736,\n",
              "  0.08718007057905197,\n",
              "  0.08380057662725449,\n",
              "  0.08292599767446518,\n",
              "  0.08220779150724411,\n",
              "  0.08218932896852493,\n",
              "  0.0827287957072258,\n",
              "  0.08095160126686096,\n",
              "  0.08092816174030304,\n",
              "  0.08069361001253128,\n",
              "  0.0809926763176918,\n",
              "  0.08087220042943954],\n",
              " 'val_accuracy': [0.5533333420753479,\n",
              "  0.6600000262260437,\n",
              "  0.8666666746139526,\n",
              "  0.8266666531562805,\n",
              "  0.9200000166893005,\n",
              "  0.9466666579246521,\n",
              "  0.9333333373069763,\n",
              "  0.8399999737739563,\n",
              "  0.9666666388511658,\n",
              "  0.95333331823349,\n",
              "  0.8266666531562805,\n",
              "  0.9333333373069763,\n",
              "  0.9666666388511658,\n",
              "  0.8399999737739563,\n",
              "  0.9266666769981384,\n",
              "  0.9599999785423279,\n",
              "  0.9466666579246521,\n",
              "  0.8799999952316284,\n",
              "  0.5933333039283752,\n",
              "  0.7799999713897705,\n",
              "  0.95333331823349,\n",
              "  0.5600000023841858,\n",
              "  0.8266666531562805,\n",
              "  0.7733333110809326,\n",
              "  0.653333306312561,\n",
              "  0.8066666722297668,\n",
              "  0.9733333587646484,\n",
              "  0.9666666388511658,\n",
              "  0.9466666579246521,\n",
              "  0.7933333516120911,\n",
              "  0.8533333539962769,\n",
              "  0.5600000023841858,\n",
              "  0.5600000023841858,\n",
              "  0.8333333134651184,\n",
              "  0.9066666960716248,\n",
              "  0.9200000166893005,\n",
              "  0.9399999976158142,\n",
              "  0.9466666579246521,\n",
              "  0.95333331823349,\n",
              "  0.9466666579246521,\n",
              "  0.9399999976158142,\n",
              "  0.95333331823349,\n",
              "  0.9599999785423279,\n",
              "  0.95333331823349,\n",
              "  0.7333333492279053,\n",
              "  0.95333331823349,\n",
              "  0.95333331823349,\n",
              "  0.9733333587646484,\n",
              "  0.9599999785423279,\n",
              "  0.95333331823349,\n",
              "  0.5733333230018616,\n",
              "  0.5666666626930237,\n",
              "  0.8600000143051147,\n",
              "  0.95333331823349,\n",
              "  0.9599999785423279,\n",
              "  0.9599999785423279,\n",
              "  0.8999999761581421,\n",
              "  0.9666666388511658,\n",
              "  0.9733333587646484,\n",
              "  0.9599999785423279,\n",
              "  0.95333331823349,\n",
              "  0.95333331823349,\n",
              "  0.9666666388511658,\n",
              "  0.9666666388511658,\n",
              "  0.9466666579246521,\n",
              "  0.9599999785423279,\n",
              "  0.9666666388511658,\n",
              "  0.9599999785423279,\n",
              "  0.9666666388511658,\n",
              "  0.9800000190734863,\n",
              "  0.95333331823349,\n",
              "  0.9599999785423279,\n",
              "  0.8799999952316284,\n",
              "  0.9399999976158142,\n",
              "  0.9599999785423279,\n",
              "  0.9599999785423279,\n",
              "  0.9599999785423279,\n",
              "  0.9599999785423279,\n",
              "  0.9066666960716248,\n",
              "  0.9599999785423279,\n",
              "  0.9599999785423279,\n",
              "  0.9666666388511658,\n",
              "  0.9800000190734863,\n",
              "  0.9666666388511658,\n",
              "  0.9666666388511658,\n",
              "  0.9599999785423279,\n",
              "  0.9666666388511658,\n",
              "  0.9599999785423279,\n",
              "  0.9599999785423279,\n",
              "  0.9666666388511658,\n",
              "  0.9666666388511658,\n",
              "  0.9599999785423279,\n",
              "  0.9666666388511658,\n",
              "  0.9599999785423279,\n",
              "  0.9599999785423279,\n",
              "  0.9666666388511658,\n",
              "  0.9599999785423279,\n",
              "  0.9599999785423279,\n",
              "  0.9599999785423279,\n",
              "  0.9599999785423279]}"
            ]
          },
          "metadata": {},
          "execution_count": 12
        }
      ],
      "source": [
        "history.history"
      ]
    },
    {
      "cell_type": "code",
      "execution_count": 13,
      "metadata": {
        "colab": {
          "base_uri": "https://localhost:8080/",
          "height": 1000
        },
        "id": "U47WtlOqOj9o",
        "outputId": "c1e648f8-212c-4a9a-aa9e-43c64c36a2cf"
      },
      "outputs": [
        {
          "output_type": "stream",
          "name": "stderr",
          "text": [
            "<ipython-input-13-7e12320c50f1>:3: SettingWithCopyWarning: \n",
            "A value is trying to be set on a copy of a slice from a DataFrame\n",
            "\n",
            "See the caveats in the documentation: https://pandas.pydata.org/pandas-docs/stable/user_guide/indexing.html#returning-a-view-versus-a-copy\n",
            "  df_loss.rename(columns={'loss':'train','val_loss':'validation'},inplace=True)\n",
            "<ipython-input-13-7e12320c50f1>:5: SettingWithCopyWarning: \n",
            "A value is trying to be set on a copy of a slice from a DataFrame\n",
            "\n",
            "See the caveats in the documentation: https://pandas.pydata.org/pandas-docs/stable/user_guide/indexing.html#returning-a-view-versus-a-copy\n",
            "  df_acc.rename(columns={'accuracy':'train','val_accuracy':'validation'},inplace=True)\n"
          ]
        },
        {
          "output_type": "execute_result",
          "data": {
            "text/plain": [
              "[Text(0.5, 0, 'Epoch'), Text(0, 0.5, 'Accuracy')]"
            ]
          },
          "metadata": {},
          "execution_count": 13
        },
        {
          "output_type": "display_data",
          "data": {
            "text/plain": [
              "<Figure size 1000x800 with 1 Axes>"
            ],
            "image/png": "[encoded data removed]"
          },
          "metadata": {}
        },
        {
          "output_type": "display_data",
          "data": {
            "text/plain": [
              "<Figure size 1000x800 with 1 Axes>"
            ],
            "image/png": "[encoded data removed]"
          },
          "metadata": {}
        }
      ],
      "source": [
        "df_loss_acc = pd.DataFrame(history.history)\n",
        "df_loss= df_loss_acc[['loss','val_loss']]\n",
        "df_loss.rename(columns={'loss':'train','val_loss':'validation'},inplace=True)\n",
        "df_acc= df_loss_acc[['accuracy','val_accuracy']]\n",
        "df_acc.rename(columns={'accuracy':'train','val_accuracy':'validation'},inplace=True)\n",
        "df_loss.plot(title='Model loss',figsize=(10,8)).set(xlabel='Epoch',ylabel='Loss')\n",
        "df_acc.plot(title='Model Accuracy',figsize=(10,8)).set(xlabel='Epoch',ylabel='Accuracy')"
      ]
    },
    {
      "cell_type": "code",
      "execution_count": 14,
      "metadata": {
        "colab": {
          "base_uri": "https://localhost:8080/"
        },
        "id": "f_VCBMmPVSlw",
        "outputId": "c846ae75-fbdd-4cbd-9779-8922e685eb69"
      },
      "outputs": [
        {
          "output_type": "stream",
          "name": "stderr",
          "text": [
            "/usr/local/lib/python3.10/dist-packages/keras/src/engine/training.py:3103: UserWarning: You are saving your model as an HDF5 file via `model.save()`. This file format is considered legacy. We recommend using instead the native Keras format, e.g. `model.save('my_model.keras')`.\n",
            "  saving_api.save_model(\n"
          ]
        }
      ],
      "source": [
        "happy_model.save('happy_model.h5')"
      ]
    },
    {
      "cell_type": "code",
      "execution_count": 15,
      "metadata": {
        "colab": {
          "base_uri": "https://localhost:8080/"
        },
        "id": "7nHdYahwVxAw",
        "outputId": "79206b9a-7c92-425d-bc97-40c354ddeb58"
      },
      "outputs": [
        {
          "output_type": "stream",
          "name": "stdout",
          "text": [
            "Collecting streamlit\n",
            "  Downloading streamlit-1.35.0-py2.py3-none-any.whl (8.6 MB)\n",
            "\u001b[?25l     \u001b[90m━━━━━━━━━━━━━━━━━━━━━━━━━━━━━━━━━━━━━━━━\u001b[0m \u001b[32m0.0/8.6 MB\u001b[0m \u001b[31m?\u001b[0m eta \u001b[36m-:--:--\u001b[0m\r\u001b[2K     \u001b[91m━━\u001b[0m\u001b[90m╺\u001b[0m\u001b[90m━━━━━━━━━━━━━━━━━━━━━━━━━━━━━━━━━━━━━\u001b[0m \u001b[32m0.5/8.6 MB\u001b[0m \u001b[31m16.4 MB/s\u001b[0m eta \u001b[36m0:00:01\u001b[0m\r\u001b[2K     \u001b[91m━━━━━━━━━━━━━━━━━━━━━━\u001b[0m\u001b[91m╸\u001b[0m\u001b[90m━━━━━━━━━━━━━━━━━\u001b[0m \u001b[32m4.9/8.6 MB\u001b[0m \u001b[31m70.8 MB/s\u001b[0m eta \u001b[36m0:00:01\u001b[0m\r\u001b[2K     \u001b[91m━━━━━━━━━━━━━━━━━━━━━━━━━━━━━━━━━━━━━━━\u001b[0m\u001b[91m╸\u001b[0m \u001b[32m8.6/8.6 MB\u001b[0m \u001b[31m92.9 MB/s\u001b[0m eta \u001b[36m0:00:01\u001b[0m\r\u001b[2K     \u001b[91m━━━━━━━━━━━━━━━━━━━━━━━━━━━━━━━━━━━━━━━\u001b[0m\u001b[91m╸\u001b[0m \u001b[32m8.6/8.6 MB\u001b[0m \u001b[31m92.9 MB/s\u001b[0m eta \u001b[36m0:00:01\u001b[0m\r\u001b[2K     \u001b[90m━━━━━━━━━━━━━━━━━━━━━━━━━━━━━━━━━━━━━━━━\u001b[0m \u001b[32m8.6/8.6 MB\u001b[0m \u001b[31m57.2 MB/s\u001b[0m eta \u001b[36m0:00:00\u001b[0m\n",
            "\u001b[?25hRequirement already satisfied: altair<6,>=4.0 in /usr/local/lib/python3.10/dist-packages (from streamlit) (4.2.2)\n",
            "Requirement already satisfied: blinker<2,>=1.0.0 in /usr/lib/python3/dist-packages (from streamlit) (1.4)\n",
            "Requirement already satisfied: cachetools<6,>=4.0 in /usr/local/lib/python3.10/dist-packages (from streamlit) (5.3.3)\n",
            "Requirement already satisfied: click<9,>=7.0 in /usr/local/lib/python3.10/dist-packages (from streamlit) (8.1.7)\n",
            "Requirement already satisfied: numpy<2,>=1.19.3 in /usr/local/lib/python3.10/dist-packages (from streamlit) (1.25.2)\n",
            "Requirement already satisfied: packaging<25,>=16.8 in /usr/local/lib/python3.10/dist-packages (from streamlit) (24.1)\n",
            "Requirement already satisfied: pandas<3,>=1.3.0 in /usr/local/lib/python3.10/dist-packages (from streamlit) (2.0.3)\n",
            "Requirement already satisfied: pillow<11,>=7.1.0 in /usr/local/lib/python3.10/dist-packages (from streamlit) (9.4.0)\n",
            "Requirement already satisfied: protobuf<5,>=3.20 in /usr/local/lib/python3.10/dist-packages (from streamlit) (3.20.3)\n",
            "Requirement already satisfied: pyarrow>=7.0 in /usr/local/lib/python3.10/dist-packages (from streamlit) (14.0.2)\n",
            "Requirement already satisfied: requests<3,>=2.27 in /usr/local/lib/python3.10/dist-packages (from streamlit) (2.31.0)\n",
            "Requirement already satisfied: rich<14,>=10.14.0 in /usr/local/lib/python3.10/dist-packages (from streamlit) (13.7.1)\n",
            "Requirement already satisfied: tenacity<9,>=8.1.0 in /usr/local/lib/python3.10/dist-packages (from streamlit) (8.3.0)\n",
            "Requirement already satisfied: toml<2,>=0.10.1 in /usr/local/lib/python3.10/dist-packages (from streamlit) (0.10.2)\n",
            "Requirement already satisfied: typing-extensions<5,>=4.3.0 in /usr/local/lib/python3.10/dist-packages (from streamlit) (4.12.2)\n",
            "Collecting gitpython!=3.1.19,<4,>=3.0.7 (from streamlit)\n",
            "  Downloading GitPython-3.1.43-py3-none-any.whl (207 kB)\n",
            "\u001b[2K     \u001b[90m━━━━━━━━━━━━━━━━━━━━━━━━━━━━━━━━━━━━━━━━\u001b[0m \u001b[32m207.3/207.3 kB\u001b[0m \u001b[31m17.8 MB/s\u001b[0m eta \u001b[36m0:00:00\u001b[0m\n",
            "\u001b[?25hCollecting pydeck<1,>=0.8.0b4 (from streamlit)\n",
            "  Downloading pydeck-0.9.1-py2.py3-none-any.whl (6.9 MB)\n",
            "\u001b[2K     \u001b[90m━━━━━━━━━━━━━━━━━━━━━━━━━━━━━━━━━━━━━━━━\u001b[0m \u001b[32m6.9/6.9 MB\u001b[0m \u001b[31m49.0 MB/s\u001b[0m eta \u001b[36m0:00:00\u001b[0m\n",
            "\u001b[?25hRequirement already satisfied: tornado<7,>=6.0.3 in /usr/local/lib/python3.10/dist-packages (from streamlit) (6.3.3)\n",
            "Collecting watchdog>=2.1.5 (from streamlit)\n",
            "  Downloading watchdog-4.0.1-py3-none-manylinux2014_x86_64.whl (83 kB)\n",
            "\u001b[2K     \u001b[90m━━━━━━━━━━━━━━━━━━━━━━━━━━━━━━━━━━━━━━━━\u001b[0m \u001b[32m83.0/83.0 kB\u001b[0m \u001b[31m7.6 MB/s\u001b[0m eta \u001b[36m0:00:00\u001b[0m\n",
            "\u001b[?25hRequirement already satisfied: entrypoints in /usr/local/lib/python3.10/dist-packages (from altair<6,>=4.0->streamlit) (0.4)\n",
            "Requirement already satisfied: jinja2 in /usr/local/lib/python3.10/dist-packages (from altair<6,>=4.0->streamlit) (3.1.4)\n",
            "Requirement already satisfied: jsonschema>=3.0 in /usr/local/lib/python3.10/dist-packages (from altair<6,>=4.0->streamlit) (4.19.2)\n",
            "Requirement already satisfied: toolz in /usr/local/lib/python3.10/dist-packages (from altair<6,>=4.0->streamlit) (0.12.1)\n",
            "Collecting gitdb<5,>=4.0.1 (from gitpython!=3.1.19,<4,>=3.0.7->streamlit)\n",
            "  Downloading gitdb-4.0.11-py3-none-any.whl (62 kB)\n",
            "\u001b[2K     \u001b[90m━━━━━━━━━━━━━━━━━━━━━━━━━━━━━━━━━━━━━━━━\u001b[0m \u001b[32m62.7/62.7 kB\u001b[0m \u001b[31m6.4 MB/s\u001b[0m eta \u001b[36m0:00:00\u001b[0m\n",
            "\u001b[?25hRequirement already satisfied: python-dateutil>=2.8.2 in /usr/local/lib/python3.10/dist-packages (from pandas<3,>=1.3.0->streamlit) (2.8.2)\n",
            "Requirement already satisfied: pytz>=2020.1 in /usr/local/lib/python3.10/dist-packages (from pandas<3,>=1.3.0->streamlit) (2023.4)\n",
            "Requirement already satisfied: tzdata>=2022.1 in /usr/local/lib/python3.10/dist-packages (from pandas<3,>=1.3.0->streamlit) (2024.1)\n",
            "Requirement already satisfied: charset-normalizer<4,>=2 in /usr/local/lib/python3.10/dist-packages (from requests<3,>=2.27->streamlit) (3.3.2)\n",
            "Requirement already satisfied: idna<4,>=2.5 in /usr/local/lib/python3.10/dist-packages (from requests<3,>=2.27->streamlit) (3.7)\n",
            "Requirement already satisfied: urllib3<3,>=1.21.1 in /usr/local/lib/python3.10/dist-packages (from requests<3,>=2.27->streamlit) (2.0.7)\n",
            "Requirement already satisfied: certifi>=2017.4.17 in /usr/local/lib/python3.10/dist-packages (from requests<3,>=2.27->streamlit) (2024.6.2)\n",
            "Requirement already satisfied: markdown-it-py>=2.2.0 in /usr/local/lib/python3.10/dist-packages (from rich<14,>=10.14.0->streamlit) (3.0.0)\n",
            "Requirement already satisfied: pygments<3.0.0,>=2.13.0 in /usr/local/lib/python3.10/dist-packages (from rich<14,>=10.14.0->streamlit) (2.16.1)\n",
            "Collecting smmap<6,>=3.0.1 (from gitdb<5,>=4.0.1->gitpython!=3.1.19,<4,>=3.0.7->streamlit)\n",
            "  Downloading smmap-5.0.1-py3-none-any.whl (24 kB)\n",
            "Requirement already satisfied: MarkupSafe>=2.0 in /usr/local/lib/python3.10/dist-packages (from jinja2->altair<6,>=4.0->streamlit) (2.1.5)\n",
            "Requirement already satisfied: attrs>=22.2.0 in /usr/local/lib/python3.10/dist-packages (from jsonschema>=3.0->altair<6,>=4.0->streamlit) (23.2.0)\n",
            "Requirement already satisfied: jsonschema-specifications>=2023.03.6 in /usr/local/lib/python3.10/dist-packages (from jsonschema>=3.0->altair<6,>=4.0->streamlit) (2023.12.1)\n",
            "Requirement already satisfied: referencing>=0.28.4 in /usr/local/lib/python3.10/dist-packages (from jsonschema>=3.0->altair<6,>=4.0->streamlit) (0.35.1)\n",
            "Requirement already satisfied: rpds-py>=0.7.1 in /usr/local/lib/python3.10/dist-packages (from jsonschema>=3.0->altair<6,>=4.0->streamlit) (0.18.1)\n",
            "Requirement already satisfied: mdurl~=0.1 in /usr/local/lib/python3.10/dist-packages (from markdown-it-py>=2.2.0->rich<14,>=10.14.0->streamlit) (0.1.2)\n",
            "Requirement already satisfied: six>=1.5 in /usr/local/lib/python3.10/dist-packages (from python-dateutil>=2.8.2->pandas<3,>=1.3.0->streamlit) (1.16.0)\n",
            "Installing collected packages: watchdog, smmap, pydeck, gitdb, gitpython, streamlit\n",
            "Successfully installed gitdb-4.0.11 gitpython-3.1.43 pydeck-0.9.1 smmap-5.0.1 streamlit-1.35.0 watchdog-4.0.1\n"
          ]
        }
      ],
      "source": [
        "!pip install streamlit\n"
      ]
    },
    {
      "cell_type": "code",
      "execution_count": 16,
      "metadata": {
        "colab": {
          "base_uri": "https://localhost:8080/"
        },
        "id": "flLKCr6iYYTk",
        "outputId": "db395335-f9b3-4c74-ad13-c1e11bf334d7"
      },
      "outputs": [
        {
          "output_type": "stream",
          "name": "stdout",
          "text": [
            "Writing app.py\n"
          ]
        }
      ],
      "source": [
        "%%writefile app.py"
      ]
    },
    {
      "cell_type": "code",
      "execution_count": 17,
      "metadata": {
        "colab": {
          "base_uri": "https://localhost:8080/"
        },
        "id": "vY6nbgq8em6q",
        "outputId": "dbaa483d-ae70-44ce-c8c2-3f834d224203"
      },
      "outputs": [
        {
          "output_type": "stream",
          "name": "stdout",
          "text": [
            "35.197.107.67\n"
          ]
        }
      ],
      "source": [
        "! wget -q -O - ipv4.icanhazip.com\n"
      ]
    },
    {
      "cell_type": "code",
      "execution_count": null,
      "metadata": {
        "colab": {
          "base_uri": "https://localhost:8080/"
        },
        "id": "cEykhmeofEEC",
        "outputId": "920a7747-d0a8-4bb9-deeb-7aba2ce118c4"
      },
      "outputs": [
        {
          "output_type": "stream",
          "name": "stdout",
          "text": [
            "\n",
            "Collecting usage statistics. To deactivate, set browser.gatherUsageStats to false.\n",
            "\u001b[0m\n",
            "\u001b[0m\n",
            "\u001b[34m\u001b[1m  You can now view your Streamlit app in your browser.\u001b[0m\n",
            "\u001b[0m\n",
            "\u001b[34m  Local URL: \u001b[0m\u001b[1mhttp://localhost:8501\u001b[0m\n",
            "\u001b[34m  Network URL: \u001b[0m\u001b[1mhttp://172.28.0.12:8501\u001b[0m\n",
            "\u001b[34m  External URL: \u001b[0m\u001b[1mhttp://35.197.107.67:8501\u001b[0m\n",
            "\u001b[0m\n",
            "\u001b[K\u001b[?25hnpx: installed 22 in 6.6s\n",
            "your url is: https://empty-paws-glow.loca.lt\n",
            "2024-06-16 07:24:07.720840: E external/local_xla/xla/stream_executor/cuda/cuda_dnn.cc:9261] Unable to register cuDNN factory: Attempting to register factory for plugin cuDNN when one has already been registered\n",
            "2024-06-16 07:24:07.720931: E external/local_xla/xla/stream_executor/cuda/cuda_fft.cc:607] Unable to register cuFFT factory: Attempting to register factory for plugin cuFFT when one has already been registered\n",
            "2024-06-16 07:24:07.725342: E external/local_xla/xla/stream_executor/cuda/cuda_blas.cc:1515] Unable to register cuBLAS factory: Attempting to register factory for plugin cuBLAS when one has already been registered\n",
            "2024-06-16 07:24:09.453575: W tensorflow/compiler/tf2tensorrt/utils/py_utils.cc:38] TF-TRT Warning: Could not find TensorRT\n",
            "1/1 [==============================] - 0s 152ms/step\n",
            "1/1 [==============================] - 0s 116ms/step\n",
            "1/1 [==============================] - 0s 94ms/step\n",
            "1/1 [==============================] - 0s 107ms/step\n",
            "WARNING:tensorflow:5 out of the last 5 calls to <function Model.make_predict_function.<locals>.predict_function at 0x7ca8f0487e20> triggered tf.function retracing. Tracing is expensive and the excessive number of tracings could be due to (1) creating @tf.function repeatedly in a loop, (2) passing tensors with different shapes, (3) passing Python objects instead of tensors. For (1), please define your @tf.function outside of the loop. For (2), @tf.function has reduce_retracing=True option that can avoid unnecessary retracing. For (3), please refer to https://www.tensorflow.org/guide/function#controlling_retracing and https://www.tensorflow.org/api_docs/python/tf/function for  more details.\n",
            "1/1 [==============================] - 0s 85ms/step\n",
            "WARNING:tensorflow:6 out of the last 6 calls to <function Model.make_predict_function.<locals>.predict_function at 0x7ca8f0487370> triggered tf.function retracing. Tracing is expensive and the excessive number of tracings could be due to (1) creating @tf.function repeatedly in a loop, (2) passing tensors with different shapes, (3) passing Python objects instead of tensors. For (1), please define your @tf.function outside of the loop. For (2), @tf.function has reduce_retracing=True option that can avoid unnecessary retracing. For (3), please refer to https://www.tensorflow.org/guide/function#controlling_retracing and https://www.tensorflow.org/api_docs/python/tf/function for  more details.\n",
            "1/1 [==============================] - 0s 80ms/step\n",
            "1/1 [==============================] - 0s 71ms/step\n",
            "1/1 [==============================] - 0s 72ms/step\n",
            "1/1 [==============================] - 0s 80ms/step\n",
            "1/1 [==============================] - 0s 85ms/step\n"
          ]
        }
      ],
      "source": [
        "! streamlit run app.py & npx localtunnel --port 8501"
      ]
    }
  ],
  "metadata": {
    "colab": {
      "provenance": []
    },
    "kernelspec": {
      "display_name": "Python 3",
      "name": "python3"
    },
    "language_info": {
      "name": "python"
    }
  },
  "nbformat": 4,
  "nbformat_minor": 0
}
